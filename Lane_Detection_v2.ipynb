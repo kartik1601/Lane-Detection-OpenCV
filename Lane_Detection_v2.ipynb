{
  "nbformat": 4,
  "nbformat_minor": 0,
  "metadata": {
    "colab": {
      "provenance": [],
      "authorship_tag": "ABX9TyOKD6Hh6yO4e7+u+SzPDcq7",
      "include_colab_link": true
    },
    "kernelspec": {
      "name": "python3",
      "display_name": "Python 3"
    },
    "language_info": {
      "name": "python"
    }
  },
  "cells": [
    {
      "cell_type": "markdown",
      "metadata": {
        "id": "view-in-github",
        "colab_type": "text"
      },
      "source": [
        "<a href=\"https://colab.research.google.com/github/kartik1601/Lane-Detection-OpenCV/blob/main/Lane_Detection_v2.ipynb\" target=\"_parent\"><img src=\"https://colab.research.google.com/assets/colab-badge.svg\" alt=\"Open In Colab\"/></a>"
      ]
    },
    {
      "cell_type": "code",
      "execution_count": null,
      "metadata": {
        "id": "LuDXqyXbRRKk"
      },
      "outputs": [],
      "source": [
        "import os\n",
        "import numpy as np\n",
        "import pandas as pd\n",
        "import cv2\n",
        "from matplotlib import pyplot\n",
        "from google.colab.patches import cv2_imshow\n",
        "from moviepy import editor\n",
        "import moviepy"
      ]
    },
    {
      "cell_type": "code",
      "source": [
        "# Driver Function\n",
        "def process_video(input_video,output_video):\n",
        "  output_dir = os.path.dirname(output_video)\n",
        "  if not os.path.exists(output_dir):\n",
        "        os.makedirs(output_dir)\n",
        "\n",
        "  cap = cv2.VideoCapture(input_video)\n",
        "  if not cap.isOpened():\n",
        "      print(\"Error: Could not open video.\")\n",
        "      return\n",
        "\n",
        "  fps = cap.get(cv2.CAP_PROP_FPS)\n",
        "  width = int(cap.get(cv2.CAP_PROP_FRAME_WIDTH))\n",
        "  height = int(cap.get(cv2.CAP_PROP_FRAME_HEIGHT))\n",
        "  fourcc = cv2.VideoWriter_fourcc(*'mp4v')\n",
        "\n",
        "  out = cv2.VideoWriter(output_video, fourcc, fps, (width, height), True)\n",
        "\n",
        "  while True:\n",
        "      ret, frame = cap.read()\n",
        "      if not ret:\n",
        "          break\n",
        "\n",
        "      processed_frame = frame_processor(frame)\n",
        "      out.write(processed_frame)\n",
        "\n",
        "  cap.release()\n",
        "  out.release()\n",
        "  cv2.destroyAllWindows()"
      ],
      "metadata": {
        "id": "A9malI9bR1Nj"
      },
      "execution_count": null,
      "outputs": []
    },
    {
      "cell_type": "code",
      "source": [
        "# Frame processing function\n",
        "def frame_processor(image):\n",
        "  # Converting the RGB into Grayscale mode\n",
        "  # BGR if input image is taken from cv2\n",
        "  gray_image = cv2.cvtColor(image,cv2.COLOR_BGR2GRAY)\n",
        "\n",
        "  # Guassian Blur\n",
        "  # kernel size = 5\n",
        "  k_size = 5\n",
        "  blur_image = cv2.GaussianBlur(gray_image, (k_size,k_size) , 0)\n",
        "\n",
        "  # Canny edge Detection\n",
        "  low_threshold = 150\n",
        "  high_threshold = 250\n",
        "\n",
        "  edges = cv2.Canny(blur_image,low_threshold,high_threshold)\n",
        "\n",
        "  # Region selection\n",
        "  marked_region = region_selection(edges)\n",
        "\n",
        "  # Hough Transform\n",
        "  hough_image = hough_transform(marked_region)\n",
        "\n",
        "  # Draw the result\n",
        "  final_image = draw_lane_lines(image,lane_lines(image,hough_image))\n",
        "  return final_image"
      ],
      "metadata": {
        "id": "lywUh6hZSw_M"
      },
      "execution_count": 86,
      "outputs": []
    },
    {
      "cell_type": "code",
      "source": [
        "# Selecting the necessary region\n",
        "def region_selection(image):\n",
        "  mask_img = np.zeros_like(image)\n",
        "\n",
        "  # If more than one channel is present in image\n",
        "  # Defining color of masked polygon\n",
        "  if len(image.shape) > 2:\n",
        "    channel = image.shape[2] # h,w,c - 0,1,2\n",
        "    ignore_mask_color = (255,) * channel\n",
        "\n",
        "  else:\n",
        "    ignore_mask_color = 255\n",
        "\n",
        "  rows, cols = image.shape[:2]\n",
        "  bottom_left = [cols*0.1, rows*0.95]\n",
        "  top_left = [cols*0.4, rows*0.6]\n",
        "  bottom_right = [cols*0.9, rows*0.95]\n",
        "  top_right = [cols*0.6, rows*0.6]\n",
        "\n",
        "  polygon_vertices = np.array([bottom_left,top_left,top_right,bottom_right],dtype=np.int32)\n",
        "\n",
        "  cv2.fillPoly(mask_img, [polygon_vertices],ignore_mask_color)\n",
        "\n",
        "  masked_img = cv2.bitwise_and(image,mask_img)\n",
        "\n",
        "  return masked_img"
      ],
      "metadata": {
        "id": "nJuLnXjwWH-g"
      },
      "execution_count": null,
      "outputs": []
    },
    {
      "cell_type": "code",
      "source": [
        "# Hough transform for identifying straight lines\n",
        "\n",
        "def hough_transform(image):\n",
        "  # Distance Resolution\n",
        "  rho = 1\n",
        "  # Angle resolution\n",
        "  theta = np.pi/180\n",
        "  # threshold\n",
        "  threshold = 12\n",
        "  # Minimum length of line\n",
        "  minLineLength = 16\n",
        "  # Mximum allowed gap\n",
        "  maxLineGap = 500\n",
        "\n",
        "  return cv2.HoughLinesP(image,rho=rho,theta=theta,threshold=threshold,minLineLength=minLineLength,maxLineGap=maxLineGap)"
      ],
      "metadata": {
        "id": "vDN9vN9mYBK5"
      },
      "execution_count": 90,
      "outputs": []
    },
    {
      "cell_type": "code",
      "source": [
        "# Plotting hough lines on our input frame\n",
        "# Slope intercept - for calculating slope and intercept\n",
        "# Pixel points - using line equation, plotting their x,y coords\n",
        "# Lane Lines - for calculating above two for left and right lanes\n",
        "\n",
        "def avg_slope_intercept(lines):\n",
        "\n",
        "  left_lines    = [] #(slope, intercept)\n",
        "  left_weights  = [] #(length,)\n",
        "  right_lines   = [] #(slope, intercept)\n",
        "  right_weights = [] #(length,)\n",
        "\n",
        "  for line in lines:\n",
        "    for x1,y1,x2,y2 in line:\n",
        "      if x1==x2:\n",
        "        continue\n",
        "\n",
        "      slope = (y2-y1)/(x2-x1)\n",
        "      intercept = y2 - (slope*x2)\n",
        "      length = np.sqrt(((y2-y1)**2) + ((x2-x1)**2))\n",
        "\n",
        "      if slope<0:\n",
        "        left_lines.append((slope,intercept))\n",
        "        left_weights.append((length))\n",
        "      else:\n",
        "        right_lines.append((slope,intercept))\n",
        "        right_weights.append((length))\n",
        "\n",
        "  left_lane  = np.dot(left_weights,  left_lines) / np.sum(left_weights)  if len(left_weights) > 0 else None\n",
        "  right_lane = np.dot(right_weights, right_lines) / np.sum(right_weights) if len(right_weights) > 0 else None\n",
        "\n",
        "  return left_lane, right_lane\n",
        "\n",
        "def pixel_points(y1,y2,line):\n",
        "\n",
        "  if line is None:\n",
        "    return None\n",
        "\n",
        "  slope, intercept = line\n",
        "  x1 = int((y1 - intercept)/slope)\n",
        "  x2 = int((y2 - intercept)/slope)\n",
        "  y1 = int(y1)\n",
        "  y2 = int(y2)\n",
        "  return ((x1, y1), (x2, y2))\n",
        "\n",
        "def lane_lines(image, lines):\n",
        "  # Image = input image\n",
        "  # lines = lines after hough transform\n",
        "  left_lane, right_lane = avg_slope_intercept(lines)\n",
        "\n",
        "  y1 = image.shape[0]\n",
        "  y2 = y1 * 0.6\n",
        "\n",
        "  left_line = pixel_points(y1,y2,left_lane)\n",
        "  right_line = pixel_points(y1,y2,right_lane)\n",
        "\n",
        "  return left_line, right_line\n",
        "\n",
        "def draw_lane_lines(image,lines,color=[0,255,0],thickness=6):\n",
        "  line_image = np.zeros((image.shape[0], image.shape[1], 3), dtype=np.uint8)\n",
        "\n",
        "  for line in lines:\n",
        "    if line is not None:\n",
        "      cv2.line(line_image,*line,color,thickness)\n",
        "\n",
        "  return cv2.addWeighted(image,1.0,line_image,1.0,0.0)"
      ],
      "metadata": {
        "id": "IA2HZGEYZIy_"
      },
      "execution_count": 72,
      "outputs": []
    },
    {
      "cell_type": "code",
      "source": [
        "!git clone https://github.com/udacity/CarND-LaneLines-P1.git"
      ],
      "metadata": {
        "id": "tMeHR3tnd76C"
      },
      "execution_count": null,
      "outputs": []
    },
    {
      "cell_type": "code",
      "source": [
        "input_path = '/content/CarND-LaneLines-P1/test_videos/test_video.mp4'\n",
        "output_path = '/content/CarND-LaneLines-P1/test_videos_output/output6.mp4'"
      ],
      "metadata": {
        "id": "RKMYIKqpoO_E"
      },
      "execution_count": 94,
      "outputs": []
    },
    {
      "cell_type": "code",
      "source": [
        "process_video(input_path,output_path)"
      ],
      "metadata": {
        "id": "fTZlOmKsghvL"
      },
      "execution_count": 95,
      "outputs": []
    }
  ]
}